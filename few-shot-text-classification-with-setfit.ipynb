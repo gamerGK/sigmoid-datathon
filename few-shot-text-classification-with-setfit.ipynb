{
 "cells": [
  {
   "cell_type": "code",
   "execution_count": 1,
   "id": "bb254b19",
   "metadata": {
    "execution": {
     "iopub.execute_input": "2022-10-15T20:36:17.123694Z",
     "iopub.status.busy": "2022-10-15T20:36:17.122548Z",
     "iopub.status.idle": "2022-10-15T20:36:54.316399Z",
     "shell.execute_reply": "2022-10-15T20:36:54.315118Z"
    },
    "papermill": {
     "duration": 37.204407,
     "end_time": "2022-10-15T20:36:54.319155",
     "exception": false,
     "start_time": "2022-10-15T20:36:17.114748",
     "status": "completed"
    },
    "tags": []
   },
   "outputs": [
    {
     "name": "stdout",
     "output_type": "stream",
     "text": [
      "\u001b[31mERROR: pip's dependency resolver does not currently take into account all the packages that are installed. This behaviour is the source of the following dependency conflicts.\r\n",
      "beatrix-jupyterlab 3.1.7 requires google-cloud-bigquery-storage, which is not installed.\r\n",
      "tfx-bsl 1.8.0 requires pyarrow<6,>=1, but you have pyarrow 9.0.0 which is incompatible.\r\n",
      "tfx-bsl 1.8.0 requires tensorflow!=2.0.*,!=2.1.*,!=2.2.*,!=2.3.*,!=2.4.*,!=2.5.*,!=2.6.*,!=2.7.*,<3,>=1.15.5, but you have tensorflow 2.6.4 which is incompatible.\r\n",
      "tensorflow-transform 1.8.0 requires pyarrow<6,>=1, but you have pyarrow 9.0.0 which is incompatible.\r\n",
      "tensorflow-transform 1.8.0 requires tensorflow!=2.0.*,!=2.1.*,!=2.2.*,!=2.3.*,!=2.4.*,!=2.5.*,!=2.6.*,!=2.7.*,<2.9,>=1.15.5, but you have tensorflow 2.6.4 which is incompatible.\r\n",
      "apache-beam 2.39.0 requires dill<0.3.2,>=0.3.1.1, but you have dill 0.3.5.1 which is incompatible.\r\n",
      "apache-beam 2.39.0 requires httplib2<0.20.0,>=0.8, but you have httplib2 0.20.4 which is incompatible.\r\n",
      "apache-beam 2.39.0 requires pyarrow<8.0.0,>=0.15.1, but you have pyarrow 9.0.0 which is incompatible.\u001b[0m\u001b[31m\r\n",
      "\u001b[0m\u001b[33mWARNING: Running pip as the 'root' user can result in broken permissions and conflicting behaviour with the system package manager. It is recommended to use a virtual environment instead: https://pip.pypa.io/warnings/venv\u001b[0m\u001b[33m\r\n",
      "\u001b[0mRequirement already satisfied: pyarrow in /opt/conda/lib/python3.7/site-packages (9.0.0)\r\n",
      "Requirement already satisfied: numpy>=1.16.6 in /opt/conda/lib/python3.7/site-packages (from pyarrow) (1.21.6)\r\n",
      "\u001b[33mWARNING: Running pip as the 'root' user can result in broken permissions and conflicting behaviour with the system package manager. It is recommended to use a virtual environment instead: https://pip.pypa.io/warnings/venv\u001b[0m\u001b[33m\r\n",
      "\u001b[0m"
     ]
    }
   ],
   "source": [
    "!pip install setfit -q\n",
    "!pip install pyarrow"
   ]
  },
  {
   "cell_type": "code",
   "execution_count": 2,
   "id": "7fdfc895",
   "metadata": {
    "execution": {
     "iopub.execute_input": "2022-10-15T20:36:54.332517Z",
     "iopub.status.busy": "2022-10-15T20:36:54.331563Z"
    },
    "papermill": {
     "duration": 1.006898,
     "end_time": "2022-10-15T20:36:55.331716",
     "exception": false,
     "start_time": "2022-10-15T20:36:54.324818",
     "status": "completed"
    },
    "tags": []
   },
   "outputs": [],
   "source": [
    "import os\n",
    "os._exit(00)"
   ]
  },
  {
   "cell_type": "code",
   "execution_count": null,
   "id": "0c1f243f",
   "metadata": {
    "execution": {
     "iopub.execute_input": "2022-10-15T20:35:10.858592Z",
     "iopub.status.busy": "2022-10-15T20:35:10.858196Z",
     "iopub.status.idle": "2022-10-15T20:35:29.369527Z",
     "shell.execute_reply": "2022-10-15T20:35:29.368321Z",
     "shell.execute_reply.started": "2022-10-15T20:35:10.858559Z"
    },
    "papermill": {
     "duration": null,
     "end_time": null,
     "exception": null,
     "start_time": null,
     "status": "completed"
    },
    "tags": []
   },
   "outputs": [],
   "source": [
    "!pip install nlp -q\n",
    "!pip install beautifulsoup4 -q"
   ]
  },
  {
   "cell_type": "code",
   "execution_count": null,
   "id": "ce2c73c7",
   "metadata": {
    "execution": {
     "iopub.execute_input": "2022-10-15T20:35:34.269681Z",
     "iopub.status.busy": "2022-10-15T20:35:34.268921Z",
     "iopub.status.idle": "2022-10-15T20:35:40.280072Z",
     "shell.execute_reply": "2022-10-15T20:35:40.279065Z",
     "shell.execute_reply.started": "2022-10-15T20:35:34.269634Z"
    },
    "papermill": {
     "duration": null,
     "end_time": null,
     "exception": null,
     "start_time": null,
     "status": "completed"
    },
    "tags": []
   },
   "outputs": [],
   "source": [
    "%matplotlib inline\n",
    "\n",
    "from bs4 import BeautifulSoup\n",
    "import tensorflow as tf\n",
    "import numpy as np\n",
    "import matplotlib.pyplot as plt\n",
    "import nlp\n",
    "import random\n",
    "import pandas as pd\n",
    "import emoji\n",
    "import re\n",
    "import string"
   ]
  },
  {
   "cell_type": "code",
   "execution_count": null,
   "id": "fa1d08d4",
   "metadata": {
    "execution": {
     "iopub.execute_input": "2022-10-15T20:35:40.282787Z",
     "iopub.status.busy": "2022-10-15T20:35:40.282150Z",
     "iopub.status.idle": "2022-10-15T20:35:40.809775Z",
     "shell.execute_reply": "2022-10-15T20:35:40.808789Z",
     "shell.execute_reply.started": "2022-10-15T20:35:40.282747Z"
    },
    "papermill": {
     "duration": null,
     "end_time": null,
     "exception": null,
     "start_time": null,
     "status": "completed"
    },
    "tags": []
   },
   "outputs": [],
   "source": [
    "from keras import backend as K\n",
    "\n",
    "def get_f1(y_true, y_pred): #taken from old keras source code\n",
    "    true_positives = K.sum(K.round(K.clip(y_true * y_pred, 0, 1)))\n",
    "    possible_positives = K.sum(K.round(K.clip(y_true, 0, 1)))\n",
    "    predicted_positives = K.sum(K.round(K.clip(y_pred, 0, 1)))\n",
    "    precision = true_positives / (predicted_positives + K.epsilon())\n",
    "    recall = true_positives / (possible_positives + K.epsilon())\n",
    "    f1_val = 2*(precision*recall)/(precision+recall+K.epsilon())\n",
    "    return f1_val"
   ]
  },
  {
   "cell_type": "code",
   "execution_count": null,
   "id": "0c99df4f",
   "metadata": {
    "execution": {
     "iopub.execute_input": "2022-10-15T20:35:40.811738Z",
     "iopub.status.busy": "2022-10-15T20:35:40.811169Z",
     "iopub.status.idle": "2022-10-15T20:35:40.877076Z",
     "shell.execute_reply": "2022-10-15T20:35:40.876178Z",
     "shell.execute_reply.started": "2022-10-15T20:35:40.811701Z"
    },
    "papermill": {
     "duration": null,
     "end_time": null,
     "exception": null,
     "start_time": null,
     "status": "completed"
    },
    "tags": []
   },
   "outputs": [],
   "source": [
    "train = pd.read_csv(\"../input/emotion-data/train.csv\")\n",
    "# train = pd.read_csv(\"../input/semeval/semeval.csv\")\n",
    "test = pd.read_csv(\"../input/emotion-data/test.csv\")"
   ]
  },
  {
   "cell_type": "code",
   "execution_count": null,
   "id": "3b71fe4d",
   "metadata": {
    "execution": {
     "iopub.execute_input": "2022-10-15T20:35:40.880104Z",
     "iopub.status.busy": "2022-10-15T20:35:40.879716Z",
     "iopub.status.idle": "2022-10-15T20:35:40.901971Z",
     "shell.execute_reply": "2022-10-15T20:35:40.900767Z",
     "shell.execute_reply.started": "2022-10-15T20:35:40.880067Z"
    },
    "papermill": {
     "duration": null,
     "end_time": null,
     "exception": null,
     "start_time": null,
     "status": "completed"
    },
    "tags": []
   },
   "outputs": [],
   "source": [
    "contraction_mapping = {\"ain't\": \"is not\", \"aren't\": \"are not\",\"can't\": \"cannot\", \"'cause\": \"because\", \"could've\": \"could have\", \"couldn't\": \"could not\", \n",
    "                       \"didn't\": \"did not\",  \"doesn't\": \"does not\", \"don't\": \"do not\", \"hadn't\": \"had not\", \"hasn't\": \"has not\", \"haven't\": \"have not\", \n",
    "                       \"he'd\": \"he would\",\"he'll\": \"he will\", \"he's\": \"he is\", \"how'd\": \"how did\", \"how'd'y\": \"how do you\", \"how'll\": \"how will\", \n",
    "                       \"how's\": \"how is\",  \"I'd\": \"I would\", \"I'd've\": \"I would have\", \"I'll\": \"I will\", \"I'll've\": \"I will have\",\"I'm\": \"I am\",\n",
    "                       \"I've\": \"I have\", \"i'd\": \"i would\", \"i'd've\": \"i would have\", \"i'll\": \"i will\",  \"i'll've\": \"i will have\",\"i'm\": \"i am\", \n",
    "                       \"i've\": \"i have\", \"isn't\": \"is not\", \"it'd\": \"it would\", \"it'd've\": \"it would have\", \"it'll\": \"it will\", \"it'll've\": \"it will have\",\n",
    "                       \"it's\": \"it is\", \"let's\": \"let us\", \"ma'am\": \"madam\", \"mayn't\": \"may not\", \"might've\": \"might have\",\"mightn't\": \"might not\",\n",
    "                       \"mightn't've\": \"might not have\", \"must've\": \"must have\", \"mustn't\": \"must not\", \"mustn't've\": \"must not have\", \"needn't\": \"need not\", \n",
    "                       \"needn't've\": \"need not have\",\"o'clock\": \"of the clock\", \"oughtn't\": \"ought not\", \"oughtn't've\": \"ought not have\", \"shan't\": \"shall not\",\n",
    "                       \"sha'n't\": \"shall not\", \"shan't've\": \"shall not have\", \"she'd\": \"she would\", \"she'd've\": \"she would have\", \"she'll\": \"she will\", \n",
    "                       \"she'll've\": \"she will have\", \"she's\": \"she is\", \"should've\": \"should have\", \"shouldn't\": \"should not\", \"shouldn't've\": \"should not have\",\n",
    "                       \"so've\": \"so have\",\"so's\": \"so as\", \"this's\": \"this is\",\"that'd\": \"that would\", \"that'd've\": \"that would have\", \"that's\": \"that is\",\n",
    "                       \"there'd\": \"there would\", \"there'd've\": \"there would have\", \"there's\": \"there is\", \"here's\": \"here is\",\"they'd\": \"they would\",\n",
    "                       \"they'd've\": \"they would have\", \"they'll\": \"they will\", \"they'll've\": \"they will have\", \"they're\": \"they are\", \"they've\": \"they have\",\n",
    "                       \"to've\": \"to have\", \"wasn't\": \"was not\", \"we'd\": \"we would\", \"we'd've\": \"we would have\", \"we'll\": \"we will\", \"we'll've\": \"we will have\",\n",
    "                       \"we're\": \"we are\", \"we've\": \"we have\", \"weren't\": \"were not\", \"what'll\": \"what will\", \"what'll've\": \"what will have\", \n",
    "                       \"what're\": \"what are\",  \"what's\": \"what is\", \"what've\": \"what have\", \"when's\": \"when is\", \"when've\": \"when have\", \"where'd\": \"where did\",\n",
    "                       \"where's\": \"where is\", \"where've\": \"where have\", \"who'll\": \"who will\", \"who'll've\": \"who will have\", \"who's\": \"who is\", \n",
    "                       \"who've\": \"who have\", \"why's\": \"why is\", \"why've\": \"why have\", \"will've\": \"will have\", \"won't\": \"will not\", \"won't've\": \"will not have\", \n",
    "                       \"would've\": \"would have\", \"wouldn't\": \"would not\", \"wouldn't've\": \"would not have\", \"y'all\": \"you all\", \"y'all'd\": \"you all would\",\n",
    "                       \"y'all'd've\": \"you all would have\",\"y'all're\": \"you all are\",\"y'all've\": \"you all have\",\"you'd\": \"you would\", \"you'd've\": \"you would have\",\n",
    "                       \"you'll\": \"you will\", \"you'll've\": \"you will have\", \"you're\": \"you are\", \"you've\": \"you have\", 'u.s':'america', 'e.g':'for example'}\n",
    "\n",
    "punct = [',', '.', '\"', ':', ')', '(', '-', '!', '?', '|', ';', \"'\", '$', '&', '/', '[', ']', '>', '%', '=', '#', '*', '+', '\\\\', '•',  '~', '@', '£', \n",
    " '·', '_', '{', '}', '©', '^', '®', '`',  '<', '→', '°', '€', '™', '›',  '♥', '←', '×', '§', '″', '′', 'Â', '█', '½', 'à', '…', \n",
    " '“', '★', '”', '–', '●', 'â', '►', '−', '¢', '²', '¬', '░', '¶', '↑', '±', '¿', '▾', '═', '¦', '║', '―', '¥', '▓', '—', '‹', '─', \n",
    " '▒', '：', '¼', '⊕', '▼', '▪', '†', '■', '’', '▀', '¨', '▄', '♫', '☆', 'é', '¯', '♦', '¤', '▲', 'è', '¸', '¾', 'Ã', '⋅', '‘', '∞', \n",
    " '∙', '）', '↓', '、', '│', '（', '»', '，', '♪', '╩', '╚', '³', '・', '╦', '╣', '╔', '╗', '▬', '❤', 'ï', 'Ø', '¹', '≤', '‡', '√', ]\n",
    "\n",
    "punct_mapping = {\"‘\": \"'\", \"₹\": \"e\", \"´\": \"'\", \"°\": \"\", \"€\": \"e\", \"™\": \"tm\", \"√\": \" sqrt \", \"×\": \"x\", \"²\": \"2\", \"—\": \"-\", \"–\": \"-\", \"’\": \"'\", \"_\": \"-\",\n",
    "                 \"`\": \"'\", '“': '\"', '”': '\"', '“': '\"', \"£\": \"e\", '∞': 'infinity', 'θ': 'theta', '÷': '/', 'α': 'alpha', '•': '.', 'à': 'a', '−': '-', \n",
    "                 'β': 'beta', '∅': '', '³': '3', 'π': 'pi', '!':' '}\n",
    "\n",
    "mispell_dict = {'colour': 'color', 'centre': 'center', 'favourite': 'favorite', 'travelling': 'traveling', 'counselling': 'counseling', 'theatre': 'theater',\n",
    "                'cancelled': 'canceled', 'labour': 'labor', 'organisation': 'organization', 'wwii': 'world war 2', 'citicise': 'criticize', 'youtu ': 'youtube ',\n",
    "                'Qoura': 'Quora', 'sallary': 'salary', 'Whta': 'What', 'narcisist': 'narcissist', 'howdo': 'how do', 'whatare': 'what are', 'howcan': 'how can',\n",
    "                'howmuch': 'how much', 'howmany': 'how many', 'whydo': 'why do', 'doI': 'do I', 'theBest': 'the best', 'howdoes': 'how does', \n",
    "                'mastrubation': 'masturbation', 'mastrubate': 'masturbate', \"mastrubating\": 'masturbating', 'pennis': 'penis', 'Etherium': 'Ethereum', \n",
    "                'narcissit': 'narcissist', 'bigdata': 'big data', '2k17': '2017', '2k18': '2018', 'qouta': 'quota', 'exboyfriend': 'ex boyfriend', \n",
    "                'airhostess': 'air hostess', \"whst\": 'what', 'watsapp': 'whatsapp', 'demonitisation': 'demonetization', 'demonitization': 'demonetization',\n",
    "                'demonetisation': 'demonetization'}"
   ]
  },
  {
   "cell_type": "code",
   "execution_count": null,
   "id": "fc644165",
   "metadata": {
    "execution": {
     "iopub.execute_input": "2022-10-15T20:35:40.904325Z",
     "iopub.status.busy": "2022-10-15T20:35:40.903426Z",
     "iopub.status.idle": "2022-10-15T20:35:40.920143Z",
     "shell.execute_reply": "2022-10-15T20:35:40.919060Z",
     "shell.execute_reply.started": "2022-10-15T20:35:40.904289Z"
    },
    "papermill": {
     "duration": null,
     "end_time": null,
     "exception": null,
     "start_time": null,
     "status": "completed"
    },
    "tags": []
   },
   "outputs": [],
   "source": [
    "def clean_text(text):\n",
    "    '''Clean emoji, Make text lowercase, remove text in square brackets,remove links,remove punctuation\n",
    "    and remove words containing numbers.'''\n",
    "    text = emoji.demojize(text)\n",
    "    text = re.sub(r'\\:(.*?)\\:','',text)\n",
    "    text = str(text).lower()    #Making Text Lowercase\n",
    "    text = re.sub('\\[.*?\\]', '', text)\n",
    "    #The next 2 lines remove html text\n",
    "    text = BeautifulSoup(text, 'lxml').get_text()\n",
    "    text = re.sub('https?://\\S+|www\\.\\S+', '', text)\n",
    "    text = re.sub('<.*?>+', '', text)\n",
    "    text = re.sub('\\n', '', text)\n",
    "    text = re.sub('\\w*\\d\\w*', '', text)\n",
    "    # replacing everything with space except (a-z, A-Z, \".\", \"?\", \"!\", \",\", \"'\")\n",
    "    text = re.sub(r\"[^a-zA-Z?.!,¿']+\", \" \", text)\n",
    "    return text\n",
    "\n",
    "def clean_contractions(text, mapping):\n",
    "    '''Clean contraction using contraction mapping'''    \n",
    "    specials = [\"’\", \"‘\", \"´\", \"`\"]\n",
    "    for s in specials:\n",
    "        text = text.replace(s, \"'\")\n",
    "    for word in mapping.keys():\n",
    "        if \"\"+word+\"\" in text:\n",
    "            text = text.replace(\"\"+word+\"\", \"\"+mapping[word]+\"\")\n",
    "    #Remove Punctuations\n",
    "    text = re.sub('[%s]' % re.escape(string.punctuation), '', text)\n",
    "    # creating a space between a word and the punctuation following it\n",
    "    # eg: \"he is a boy.\" => \"he is a boy .\"\n",
    "    text = re.sub(r\"([?.!,¿])\", r\" \\1 \", text)\n",
    "    text = re.sub(r'[\" \"]+', \" \", text)\n",
    "    return text\n",
    "\n",
    "def clean_special_chars(text, punct, mapping):\n",
    "    '''Cleans special characters present(if any)'''   \n",
    "    for p in mapping:\n",
    "        text = text.replace(p, mapping[p])\n",
    "    \n",
    "    for p in punct:\n",
    "        text = text.replace(p, f' {p} ')\n",
    "    \n",
    "    specials = {'\\u200b': ' ', '…': ' ... ', '\\ufeff': '', 'करना': '', 'है': ''}  \n",
    "    for s in specials:\n",
    "        text = text.replace(s, specials[s])\n",
    "    \n",
    "    return text\n",
    "\n",
    "def correct_spelling(x, dic):\n",
    "    '''Corrects common spelling errors'''   \n",
    "    for word in dic.keys():\n",
    "        x = x.replace(word, dic[word])\n",
    "    return x\n",
    "\n",
    "def remove_space(text):\n",
    "    '''Removes awkward spaces'''   \n",
    "    #Removes awkward spaces \n",
    "    text = text.strip()\n",
    "    text = text.split()\n",
    "    return \" \".join(text)\n",
    "\n",
    "def text_preprocessing_pipeline(text):\n",
    "    '''Cleaning and parsing the text.'''\n",
    "    text = clean_text(text)\n",
    "    text = clean_contractions(text, contraction_mapping)\n",
    "    text = clean_special_chars(text, punct, punct_mapping)\n",
    "    text = correct_spelling(text, mispell_dict)\n",
    "    text = remove_space(text)\n",
    "    return text"
   ]
  },
  {
   "cell_type": "code",
   "execution_count": null,
   "id": "9f9a55c1",
   "metadata": {
    "execution": {
     "iopub.execute_input": "2022-10-15T20:35:40.923099Z",
     "iopub.status.busy": "2022-10-15T20:35:40.922692Z",
     "iopub.status.idle": "2022-10-15T20:35:43.970730Z",
     "shell.execute_reply": "2022-10-15T20:35:43.968679Z",
     "shell.execute_reply.started": "2022-10-15T20:35:40.923063Z"
    },
    "papermill": {
     "duration": null,
     "end_time": null,
     "exception": null,
     "start_time": null,
     "status": "completed"
    },
    "tags": []
   },
   "outputs": [],
   "source": [
    "train['Tweet'] = train['Tweet'].apply(text_preprocessing_pipeline)\n",
    "test['Tweet'] = test['Tweet'].apply(text_preprocessing_pipeline)"
   ]
  },
  {
   "cell_type": "code",
   "execution_count": null,
   "id": "79c2da66",
   "metadata": {
    "execution": {
     "iopub.execute_input": "2022-10-15T20:35:43.973810Z",
     "iopub.status.busy": "2022-10-15T20:35:43.973001Z",
     "iopub.status.idle": "2022-10-15T20:35:43.981545Z",
     "shell.execute_reply": "2022-10-15T20:35:43.979352Z",
     "shell.execute_reply.started": "2022-10-15T20:35:43.973769Z"
    },
    "papermill": {
     "duration": null,
     "end_time": null,
     "exception": null,
     "start_time": null,
     "status": "completed"
    },
    "tags": []
   },
   "outputs": [],
   "source": [
    "valid = train[:200]\n",
    "train = train[200:]"
   ]
  },
  {
   "cell_type": "code",
   "execution_count": null,
   "id": "7f5e8343",
   "metadata": {
    "execution": {
     "iopub.execute_input": "2022-10-15T20:35:43.989602Z",
     "iopub.status.busy": "2022-10-15T20:35:43.988341Z",
     "iopub.status.idle": "2022-10-15T20:35:47.805681Z",
     "shell.execute_reply": "2022-10-15T20:35:47.804723Z",
     "shell.execute_reply.started": "2022-10-15T20:35:43.989563Z"
    },
    "papermill": {
     "duration": null,
     "end_time": null,
     "exception": null,
     "start_time": null,
     "status": "completed"
    },
    "tags": []
   },
   "outputs": [],
   "source": [
    "from datasets import Dataset\n",
    "from sentence_transformers.losses import CosineSimilarityLoss\n",
    "from setfit import SetFitModel, SetFitTrainer\n",
    "from sklearn.metrics import f1_score"
   ]
  },
  {
   "cell_type": "code",
   "execution_count": null,
   "id": "c909f9d5",
   "metadata": {
    "execution": {
     "iopub.execute_input": "2022-10-15T20:35:50.095778Z",
     "iopub.status.busy": "2022-10-15T20:35:50.095098Z",
     "iopub.status.idle": "2022-10-15T20:35:50.105139Z",
     "shell.execute_reply": "2022-10-15T20:35:50.103448Z",
     "shell.execute_reply.started": "2022-10-15T20:35:50.095742Z"
    },
    "papermill": {
     "duration": null,
     "end_time": null,
     "exception": null,
     "start_time": null,
     "status": "completed"
    },
    "tags": []
   },
   "outputs": [],
   "source": [
    "# train"
   ]
  },
  {
   "cell_type": "code",
   "execution_count": null,
   "id": "0314a626",
   "metadata": {
    "execution": {
     "iopub.execute_input": "2022-10-15T20:35:50.920673Z",
     "iopub.status.busy": "2022-10-15T20:35:50.919932Z"
    },
    "papermill": {
     "duration": null,
     "end_time": null,
     "exception": null,
     "start_time": null,
     "status": "completed"
    },
    "tags": []
   },
   "outputs": [],
   "source": [
    "for emotion in ['anger', 'anticipation', 'disgust', 'fear', 'joy',\n",
    "       'love', 'optimism', 'pessimism', 'sadness', 'surprise', 'trust',\n",
    "       'neutral']:\n",
    "    print(emotion)\n",
    "       \n",
    "\n",
    "    # Load a SetFit model from Hub\n",
    "    model = SetFitModel.from_pretrained(\"cardiffnlp/twitter-roberta-base-sentiment\")\n",
    "\n",
    "    train_dataset = Dataset.from_pandas(train[[\"Tweet\", emotion]])\n",
    "    eval_dataset = Dataset.from_pandas(valid[[\"Tweet\", emotion]])    \n",
    "    \n",
    "    # Create trainer\n",
    "    trainer = SetFitTrainer(\n",
    "        model=model,\n",
    "        train_dataset=train_dataset,\n",
    "        eval_dataset=eval_dataset,\n",
    "        loss_class=CosineSimilarityLoss,\n",
    "        metric=\"accuracy\",\n",
    "        batch_size=8,\n",
    "        num_iterations=2, # The number of text pairs to generate for contrastive learning\n",
    "        num_epochs=2, # The number of epochs to use for constrastive learning\n",
    "        column_mapping={\"Tweet\": \"text\", emotion:\"label\"} # Map dataset columns to text/label expected by trainer\n",
    "    )\n",
    "\n",
    "    # Train and evaluate\n",
    "    trainer.train()\n",
    "    metrics = trainer.evaluate()\n",
    "    print(metrics)\n",
    "\n",
    "    # Run inference\n",
    "    preds = model(eval_dataset.to_pandas()[\"Tweet\"]) \n",
    "    true = eval_dataset.to_pandas()[emotion]\n",
    "    \n",
    "    print(f1_score(preds, true))\n",
    "    \n",
    "    pd.DataFrame(model(test[\"Tweet\"])).to_csv(\"submission\" + emotion +\".csv\", index=False)"
   ]
  },
  {
   "cell_type": "code",
   "execution_count": null,
   "id": "23a4d220",
   "metadata": {
    "papermill": {
     "duration": null,
     "end_time": null,
     "exception": null,
     "start_time": null,
     "status": "completed"
    },
    "tags": []
   },
   "outputs": [],
   "source": []
  },
  {
   "cell_type": "code",
   "execution_count": null,
   "id": "34f97a5a",
   "metadata": {
    "papermill": {
     "duration": null,
     "end_time": null,
     "exception": null,
     "start_time": null,
     "status": "completed"
    },
    "tags": []
   },
   "outputs": [],
   "source": []
  },
  {
   "cell_type": "code",
   "execution_count": null,
   "id": "78589ab5",
   "metadata": {
    "papermill": {
     "duration": null,
     "end_time": null,
     "exception": null,
     "start_time": null,
     "status": "completed"
    },
    "tags": []
   },
   "outputs": [],
   "source": []
  },
  {
   "cell_type": "code",
   "execution_count": null,
   "id": "56a624dc",
   "metadata": {
    "papermill": {
     "duration": null,
     "end_time": null,
     "exception": null,
     "start_time": null,
     "status": "completed"
    },
    "tags": []
   },
   "outputs": [],
   "source": [
    "# for emotion in ['anticipation', 'love', 'pessimism', 'surprise', 'trust']:\n",
    "#     print(emotion)\n",
    "       \n",
    "\n",
    "#     # Load a SetFit model from Hub\n",
    "#     model = SetFitModel.from_pretrained(\"sentence-transformers/all-MiniLM-L6-v2\")\n",
    "\n",
    "#     train_dataset = Dataset.from_pandas(train[[\"Tweet\", emotion]])\n",
    "#     eval_dataset = Dataset.from_pandas(valid[[\"Tweet\", emotion]])    \n",
    "    \n",
    "#     # Create trainer\n",
    "#     trainer = SetFitTrainer(\n",
    "#         model=model,\n",
    "#         train_dataset=train_dataset,\n",
    "#         eval_dataset=eval_dataset,\n",
    "#         loss_class=CosineSimilarityLoss,\n",
    "#         metric=\"accuracy\",\n",
    "#         batch_size=16,\n",
    "#         num_iterations=2, # The number of text pairs to generate for contrastive learning\n",
    "#         num_epochs=1, # The number of epochs to use for constrastive learning\n",
    "#         column_mapping={\"Tweet\": \"text\", emotion:\"label\"} # Map dataset columns to text/label expected by trainer\n",
    "#     )\n",
    "\n",
    "#     # Train and evaluate\n",
    "#     trainer.train()\n",
    "#     metrics = trainer.evaluate()\n",
    "#     print(metrics)\n",
    "\n",
    "#     # Run inference\n",
    "#     preds = model(eval_dataset.to_pandas()[\"Tweet\"]) \n",
    "#     true = eval_dataset.to_pandas()[emotion]\n",
    "    \n",
    "#     print(f1_score(preds, true))\n",
    "    \n",
    "#     pd.DataFrame(model(test[\"Tweet\"])).to_csv(\"submission\" + emotion +\".csv\", index=False)"
   ]
  },
  {
   "cell_type": "code",
   "execution_count": null,
   "id": "87aa2003",
   "metadata": {
    "papermill": {
     "duration": null,
     "end_time": null,
     "exception": null,
     "start_time": null,
     "status": "completed"
    },
    "tags": []
   },
   "outputs": [],
   "source": []
  },
  {
   "cell_type": "code",
   "execution_count": null,
   "id": "c7dd23c5",
   "metadata": {
    "papermill": {
     "duration": null,
     "end_time": null,
     "exception": null,
     "start_time": null,
     "status": "completed"
    },
    "tags": []
   },
   "outputs": [],
   "source": []
  },
  {
   "cell_type": "code",
   "execution_count": null,
   "id": "6fe2f5e7",
   "metadata": {
    "execution": {
     "iopub.execute_input": "2022-10-15T19:32:00.608326Z",
     "iopub.status.busy": "2022-10-15T19:32:00.607968Z",
     "iopub.status.idle": "2022-10-15T19:32:00.644749Z",
     "shell.execute_reply": "2022-10-15T19:32:00.643758Z",
     "shell.execute_reply.started": "2022-10-15T19:32:00.608295Z"
    },
    "papermill": {
     "duration": null,
     "end_time": null,
     "exception": null,
     "start_time": null,
     "status": "completed"
    },
    "tags": []
   },
   "outputs": [],
   "source": [
    "test = pd.read_csv(\"../input/emotion-data/test.csv\")\n",
    "for emotion in ['anger', 'anticipation', 'disgust', 'fear', 'joy',\n",
    "       'love', 'optimism', 'pessimism', 'sadness', 'surprise', 'trust',\n",
    "       'neutral']:\n",
    "    \n",
    "    temp = pd.read_csv(\"submission\" + emotion +\".csv\")\n",
    "    test[emotion] = temp[\"0\"].astype(int)"
   ]
  },
  {
   "cell_type": "code",
   "execution_count": null,
   "id": "e7ccc59a",
   "metadata": {
    "execution": {
     "iopub.execute_input": "2022-10-15T19:32:00.974356Z",
     "iopub.status.busy": "2022-10-15T19:32:00.973996Z",
     "iopub.status.idle": "2022-10-15T19:32:00.985981Z",
     "shell.execute_reply": "2022-10-15T19:32:00.984902Z",
     "shell.execute_reply.started": "2022-10-15T19:32:00.974323Z"
    },
    "papermill": {
     "duration": null,
     "end_time": null,
     "exception": null,
     "start_time": null,
     "status": "completed"
    },
    "tags": []
   },
   "outputs": [],
   "source": [
    "test.to_csv(\"submission.csv\", index=False)"
   ]
  },
  {
   "cell_type": "code",
   "execution_count": null,
   "id": "b15589e1",
   "metadata": {
    "papermill": {
     "duration": null,
     "end_time": null,
     "exception": null,
     "start_time": null,
     "status": "completed"
    },
    "tags": []
   },
   "outputs": [],
   "source": []
  },
  {
   "cell_type": "code",
   "execution_count": null,
   "id": "397b3eae",
   "metadata": {
    "papermill": {
     "duration": null,
     "end_time": null,
     "exception": null,
     "start_time": null,
     "status": "completed"
    },
    "tags": []
   },
   "outputs": [],
   "source": []
  },
  {
   "cell_type": "code",
   "execution_count": null,
   "id": "405faf58",
   "metadata": {
    "papermill": {
     "duration": null,
     "end_time": null,
     "exception": null,
     "start_time": null,
     "status": "completed"
    },
    "tags": []
   },
   "outputs": [],
   "source": [
    "# roberta-base"
   ]
  },
  {
   "cell_type": "code",
   "execution_count": null,
   "id": "7e28d019",
   "metadata": {
    "execution": {
     "iopub.execute_input": "2022-10-15T20:06:47.973117Z",
     "iopub.status.busy": "2022-10-15T20:06:47.972738Z",
     "iopub.status.idle": "2022-10-15T20:17:00.934703Z",
     "shell.execute_reply": "2022-10-15T20:17:00.933456Z",
     "shell.execute_reply.started": "2022-10-15T20:06:47.973087Z"
    },
    "papermill": {
     "duration": null,
     "end_time": null,
     "exception": null,
     "start_time": null,
     "status": "completed"
    },
    "tags": []
   },
   "outputs": [],
   "source": [
    "# emotion = \"anticipation\"\n",
    "\n",
    "# model = SetFitModel.from_pretrained(\"cardiffnlp/twitter-roberta-base-sentiment\")\n",
    "\n",
    "# train_dataset = Dataset.from_pandas(train[[\"Tweet\", emotion]])\n",
    "# eval_dataset = Dataset.from_pandas(valid[[\"Tweet\", emotion]])    \n",
    "\n",
    "# # Create trainer\n",
    "# trainer = SetFitTrainer(\n",
    "#     model=model,\n",
    "#     train_dataset=train_dataset,\n",
    "#     eval_dataset=eval_dataset,\n",
    "#     loss_class=CosineSimilarityLoss,\n",
    "#     metric=\"accuracy\",\n",
    "#     batch_size=16,\n",
    "#     num_iterations=2, # The number of text pairs to generate for contrastive learning\n",
    "#     num_epochs=2, # The number of epochs to use for constrastive learning\n",
    "#     column_mapping={\"Tweet\": \"text\", emotion:\"label\"} # Map dataset columns to text/label expected by trainer\n",
    "# )\n",
    "\n",
    "# # Train and evaluate\n",
    "# trainer.train()\n",
    "# metrics = trainer.evaluate()\n",
    "# print(metrics)\n",
    "\n",
    "# # Run inference\n",
    "# preds = model(eval_dataset.to_pandas()[\"Tweet\"]) \n",
    "# true = eval_dataset.to_pandas()[emotion]\n",
    "\n",
    "# print(f1_score(preds, true))"
   ]
  },
  {
   "cell_type": "code",
   "execution_count": null,
   "id": "0e25dc3f",
   "metadata": {
    "papermill": {
     "duration": null,
     "end_time": null,
     "exception": null,
     "start_time": null,
     "status": "completed"
    },
    "tags": []
   },
   "outputs": [],
   "source": [
    "# mrm8488/t5-base-finetuned-emotion\n",
    "# palakagl/Roberta_Multiclass_TextClassification\n",
    "# roberta-large"
   ]
  }
 ],
 "metadata": {
  "kernelspec": {
   "display_name": "Python 3",
   "language": "python",
   "name": "python3"
  },
  "language_info": {
   "codemirror_mode": {
    "name": "ipython",
    "version": 3
   },
   "file_extension": ".py",
   "mimetype": "text/x-python",
   "name": "python",
   "nbconvert_exporter": "python",
   "pygments_lexer": "ipython3",
   "version": "3.6.4"
  },
  "papermill": {
   "default_parameters": {},
   "duration": 46.493242,
   "end_time": "2022-10-15T20:36:55.339569",
   "environment_variables": {},
   "exception": null,
   "input_path": "__notebook__.ipynb",
   "output_path": "__notebook__.ipynb",
   "parameters": {},
   "start_time": "2022-10-15T20:36:08.846327",
   "version": "2.3.4"
  }
 },
 "nbformat": 4,
 "nbformat_minor": 5
}
