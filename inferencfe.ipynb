{
 "cells": [
  {
   "cell_type": "code",
   "execution_count": 4,
   "outputs": [],
   "source": [
    "import pandas as pd\n",
    "import torch"
   ],
   "metadata": {
    "collapsed": false
   }
  },
  {
   "cell_type": "code",
   "execution_count": 5,
   "outputs": [],
   "source": [
    "device = \"cpu\""
   ],
   "metadata": {
    "collapsed": false
   }
  },
  {
   "cell_type": "code",
   "execution_count": 5,
   "outputs": [],
   "source": [],
   "metadata": {
    "collapsed": false
   }
  },
  {
   "cell_type": "code",
   "execution_count": 6,
   "outputs": [
    {
     "name": "stderr",
     "output_type": "stream",
     "text": [
      "2022-11-08 13:12:37.307422: I tensorflow/core/platform/cpu_feature_guard.cc:193] This TensorFlow binary is optimized with oneAPI Deep Neural Network Library (oneDNN) to use the following CPU instructions in performance-critical operations:  AVX2 AVX512F AVX512_VNNI FMA\n",
      "To enable them in other operations, rebuild TensorFlow with the appropriate compiler flags.\n",
      "2022-11-08 13:12:37.549162: I tensorflow/core/util/util.cc:169] oneDNN custom operations are on. You may see slightly different numerical results due to floating-point round-off errors from different computation orders. To turn them off, set the environment variable `TF_ENABLE_ONEDNN_OPTS=0`.\n",
      "2022-11-08 13:12:37.636739: W tensorflow/stream_executor/platform/default/dso_loader.cc:64] Could not load dynamic library 'libcudart.so.11.0'; dlerror: libcudart.so.11.0: cannot open shared object file: No such file or directory\n",
      "2022-11-08 13:12:37.636780: I tensorflow/stream_executor/cuda/cudart_stub.cc:29] Ignore above cudart dlerror if you do not have a GPU set up on your machine.\n",
      "2022-11-08 13:12:37.719293: E tensorflow/stream_executor/cuda/cuda_blas.cc:2981] Unable to register cuBLAS factory: Attempting to register factory for plugin cuBLAS when one has already been registered\n",
      "2022-11-08 13:12:38.824960: W tensorflow/stream_executor/platform/default/dso_loader.cc:64] Could not load dynamic library 'libnvinfer.so.7'; dlerror: libnvinfer.so.7: cannot open shared object file: No such file or directory\n",
      "2022-11-08 13:12:38.825130: W tensorflow/stream_executor/platform/default/dso_loader.cc:64] Could not load dynamic library 'libnvinfer_plugin.so.7'; dlerror: libnvinfer_plugin.so.7: cannot open shared object file: No such file or directory\n",
      "2022-11-08 13:12:38.825136: W tensorflow/compiler/tf2tensorrt/utils/py_utils.cc:38] TF-TRT Warning: Cannot dlopen some TensorRT libraries. If you would like to use Nvidia GPU with TensorRT, please make sure the missing libraries mentioned above are installed properly.\n"
     ]
    }
   ],
   "source": [
    "model1 = torch.load(\"model_anger\", map_location=device)"
   ],
   "metadata": {
    "collapsed": false
   }
  },
  {
   "cell_type": "code",
   "execution_count": 7,
   "outputs": [],
   "source": [
    "model2 = torch.load(\"model_sentiment\", map_location=device)"
   ],
   "metadata": {
    "collapsed": false
   }
  },
  {
   "cell_type": "code",
   "execution_count": 8,
   "outputs": [],
   "source": [
    "model3 = torch.load(\"model_emotion\", map_location=device)"
   ],
   "metadata": {
    "collapsed": false
   }
  },
  {
   "cell_type": "code",
   "execution_count": 9,
   "outputs": [],
   "source": [
    "from transformers import AutoTokenizer\n",
    "tokenizer = AutoTokenizer.from_pretrained(\"roberta-base\")"
   ],
   "metadata": {
    "collapsed": false
   }
  },
  {
   "cell_type": "code",
   "execution_count": 10,
   "outputs": [],
   "source": [
    "text = \"I am happy\""
   ],
   "metadata": {
    "collapsed": false
   }
  },
  {
   "cell_type": "code",
   "execution_count": 11,
   "outputs": [],
   "source": [
    "token = tokenizer.encode_plus(text, return_tensors=\"pt\")"
   ],
   "metadata": {
    "collapsed": false
   }
  },
  {
   "cell_type": "code",
   "execution_count": 12,
   "outputs": [],
   "source": [
    "class BERTClass0(torch.nn.Module):\n",
    "    def __init__(self):\n",
    "        super(BERTClass0, self).__init__()\n",
    "        self.model1 = model1\n",
    "        self.model2 = model2\n",
    "        self.model3 = model3\n",
    "\n",
    "    def forward(self, input_ids, attention_masks):\n",
    "\n",
    "        out1 = self.model1(input_ids=input_ids, attention_mask=attention_masks)\n",
    "        out2 = self.model2(input_ids=input_ids, attention_mask=attention_masks)\n",
    "        out3 = self.model3(input_ids=input_ids, attention_mask=attention_masks)\n",
    "\n",
    "        result = torch.cat([out3[\"logits\"], torch.tensor([[out2[\"logits\"][0][1]]])], 1)\n",
    "\n",
    "        result[0][0] = out1[\"logits\"][0][0]\n",
    "\n",
    "        return result\n",
    "\n",
    "model = BERTClass0()\n",
    "model.to(device);"
   ],
   "metadata": {
    "collapsed": false
   }
  },
  {
   "cell_type": "code",
   "execution_count": 13,
   "outputs": [],
   "source": [
    "output = model(token[\"input_ids\"], token[\"attention_mask\"])\n",
    "output = output.detach()"
   ],
   "metadata": {
    "collapsed": false
   }
  },
  {
   "cell_type": "code",
   "execution_count": 14,
   "outputs": [
    {
     "data": {
      "text/plain": "tensor([[0.1369, 0.0902, 0.0107, 0.0081, 0.9705, 0.2428, 0.8818, 0.0102, 0.0264,\n         0.0369, 0.0855, 0.4204]])"
     },
     "execution_count": 14,
     "metadata": {},
     "output_type": "execute_result"
    }
   ],
   "source": [
    "torch.sigmoid(output)"
   ],
   "metadata": {
    "collapsed": false
   }
  },
  {
   "cell_type": "code",
   "execution_count": 14,
   "outputs": [],
   "source": [],
   "metadata": {
    "collapsed": false
   }
  },
  {
   "cell_type": "code",
   "execution_count": 15,
   "outputs": [
    {
     "data": {
      "text/plain": "      anger  anticipation   disgust      fear      joy      love  optimism  \\\n0  0.136933      0.090241  0.010691  0.008126  0.97052  0.242846  0.881821   \n\n   pessimism   sadness  surprise     trust   neutral  \n0   0.010158  0.026419  0.036877  0.085472  0.420393  ",
      "text/html": "<div>\n<style scoped>\n    .dataframe tbody tr th:only-of-type {\n        vertical-align: middle;\n    }\n\n    .dataframe tbody tr th {\n        vertical-align: top;\n    }\n\n    .dataframe thead th {\n        text-align: right;\n    }\n</style>\n<table border=\"1\" class=\"dataframe\">\n  <thead>\n    <tr style=\"text-align: right;\">\n      <th></th>\n      <th>anger</th>\n      <th>anticipation</th>\n      <th>disgust</th>\n      <th>fear</th>\n      <th>joy</th>\n      <th>love</th>\n      <th>optimism</th>\n      <th>pessimism</th>\n      <th>sadness</th>\n      <th>surprise</th>\n      <th>trust</th>\n      <th>neutral</th>\n    </tr>\n  </thead>\n  <tbody>\n    <tr>\n      <th>0</th>\n      <td>0.136933</td>\n      <td>0.090241</td>\n      <td>0.010691</td>\n      <td>0.008126</td>\n      <td>0.97052</td>\n      <td>0.242846</td>\n      <td>0.881821</td>\n      <td>0.010158</td>\n      <td>0.026419</td>\n      <td>0.036877</td>\n      <td>0.085472</td>\n      <td>0.420393</td>\n    </tr>\n  </tbody>\n</table>\n</div>"
     },
     "execution_count": 15,
     "metadata": {},
     "output_type": "execute_result"
    }
   ],
   "source": [
    "import pandas as pd\n",
    "col = [ 'anger', 'anticipation', 'disgust', 'fear', 'joy',\n",
    "       'love', 'optimism', 'pessimism', 'sadness', 'surprise', 'trust', 'neutral']\n",
    "pd.DataFrame(torch.sigmoid(output), columns=col)"
   ],
   "metadata": {
    "collapsed": false
   }
  },
  {
   "cell_type": "code",
   "execution_count": 15,
   "outputs": [],
   "source": [],
   "metadata": {
    "collapsed": false
   }
  },
  {
   "cell_type": "code",
   "execution_count": null,
   "outputs": [],
   "source": [],
   "metadata": {
    "collapsed": false
   }
  },
  {
   "cell_type": "code",
   "execution_count": null,
   "outputs": [],
   "source": [],
   "metadata": {
    "collapsed": false
   }
  },
  {
   "cell_type": "code",
   "execution_count": null,
   "outputs": [],
   "source": [],
   "metadata": {
    "collapsed": false
   }
  },
  {
   "cell_type": "code",
   "execution_count": null,
   "outputs": [],
   "source": [],
   "metadata": {
    "collapsed": false
   }
  },
  {
   "cell_type": "code",
   "execution_count": null,
   "outputs": [],
   "source": [],
   "metadata": {
    "collapsed": false
   }
  },
  {
   "cell_type": "code",
   "execution_count": null,
   "outputs": [],
   "source": [],
   "metadata": {
    "collapsed": false
   }
  },
  {
   "cell_type": "code",
   "execution_count": null,
   "outputs": [],
   "source": [],
   "metadata": {
    "collapsed": false
   }
  },
  {
   "cell_type": "code",
   "execution_count": null,
   "outputs": [],
   "source": [],
   "metadata": {
    "collapsed": false
   }
  },
  {
   "cell_type": "code",
   "execution_count": null,
   "outputs": [],
   "source": [],
   "metadata": {
    "collapsed": false
   }
  },
  {
   "cell_type": "code",
   "execution_count": null,
   "outputs": [],
   "source": [],
   "metadata": {
    "collapsed": false
   }
  },
  {
   "cell_type": "code",
   "execution_count": null,
   "outputs": [],
   "source": [],
   "metadata": {
    "collapsed": false
   }
  },
  {
   "cell_type": "code",
   "execution_count": null,
   "outputs": [],
   "source": [],
   "metadata": {
    "collapsed": false
   }
  },
  {
   "cell_type": "code",
   "execution_count": 16,
   "outputs": [],
   "source": [
    "device = \"cpu\""
   ],
   "metadata": {
    "collapsed": false
   }
  },
  {
   "cell_type": "code",
   "execution_count": 17,
   "outputs": [],
   "source": [
    "import torch"
   ],
   "metadata": {
    "collapsed": false
   }
  },
  {
   "cell_type": "code",
   "execution_count": 18,
   "outputs": [],
   "source": [
    "_model = torch.load(\"model_emotion_extra_base\", map_location=device)"
   ],
   "metadata": {
    "collapsed": false
   }
  },
  {
   "cell_type": "code",
   "execution_count": 19,
   "outputs": [],
   "source": [
    "from torch import nn"
   ],
   "metadata": {
    "collapsed": false
   }
  },
  {
   "cell_type": "code",
   "execution_count": 20,
   "outputs": [],
   "source": [
    "class BERTClass(torch.nn.Module):\n",
    "    def __init__(self):\n",
    "        super(BERTClass, self).__init__()\n",
    "        self.roberta = _model\n",
    "        self.dense_layer_1 = nn.Linear(768+110+110, 256)\n",
    "        self.dropout = nn.Dropout(0.2)\n",
    "        self.dense_layer_2 = nn.Linear(256, 128)\n",
    "        self.dropout_2 = nn.Dropout(0.2)\n",
    "        self.cls_layer = nn.Linear(128, 12, bias = True)\n",
    "\n",
    "    def forward(self, input_ids, attention_masks, feature1, feature2):\n",
    "\n",
    "        pooled_output = self.roberta(input_ids=input_ids, attention_mask=attention_masks)[\"pooler_output\"]\n",
    "\n",
    "        concat = torch.cat( (pooled_output, feature1, feature2), dim=1 )\n",
    "\n",
    "        x = self.dense_layer_1(concat)\n",
    "        x = self.dropout(x)\n",
    "        x_1 = self.dense_layer_2(x)\n",
    "        x_2 = self.dropout_2(x_1)\n",
    "\n",
    "        logits = self.cls_layer(x_2)\n",
    "\n",
    "        return logits\n",
    "\n",
    "model4 = BERTClass()"
   ],
   "metadata": {
    "collapsed": false
   }
  },
  {
   "cell_type": "code",
   "execution_count": 21,
   "outputs": [],
   "source": [
    "model_ = torch.load(\"model_emotion_extra\", map_location=device)"
   ],
   "metadata": {
    "collapsed": false
   }
  },
  {
   "cell_type": "code",
   "execution_count": 22,
   "outputs": [
    {
     "data": {
      "text/plain": "<All keys matched successfully>"
     },
     "execution_count": 22,
     "metadata": {},
     "output_type": "execute_result"
    }
   ],
   "source": [
    "model4.load_state_dict(model_.state_dict())"
   ],
   "metadata": {
    "collapsed": false
   }
  },
  {
   "cell_type": "code",
   "execution_count": 22,
   "outputs": [],
   "source": [],
   "metadata": {
    "collapsed": false
   }
  },
  {
   "cell_type": "code",
   "execution_count": 23,
   "outputs": [],
   "source": [
    "class BERTClass1(nn.Module):\n",
    "    def __init__(self):\n",
    "        super().__init__()\n",
    "        self.model1 = model1\n",
    "        self.model2 = model2\n",
    "        self.model4 = model4\n",
    "\n",
    "    def forward(self, input_ids, attention_masks, _feature1, _feature2):\n",
    "\n",
    "        out1 = self.model1(input_ids=input_ids, attention_mask=attention_masks)\n",
    "        out2 = self.model2(input_ids=input_ids, attention_mask=attention_masks)\n",
    "        out3 = self.model4(input_ids=input_ids, attention_masks=attention_masks, feature1=_feature1, feature2=_feature2)\n",
    "\n",
    "        result = out3\n",
    "\n",
    "        result[0][0] = out1[\"logits\"][0][0]\n",
    "        result[0][11] = out2[\"logits\"][0][1]\n",
    "\n",
    "        return result\n",
    "\n",
    "model = BERTClass1()"
   ],
   "metadata": {
    "collapsed": false
   }
  },
  {
   "cell_type": "code",
   "execution_count": 24,
   "outputs": [
    {
     "name": "stdout",
     "output_type": "stream",
     "text": [
      "Ignored unknown kwarg option direction\n"
     ]
    }
   ],
   "source": [
    "text = \"I am Happy\"\n",
    "token = tokenizer.encode_plus(\n",
    "            text,\n",
    "            truncation=True,\n",
    "            add_special_tokens=True,\n",
    "            max_length=150,\n",
    "            padding='max_length',\n",
    "            return_token_type_ids=True,\n",
    "            return_tensors=\"pt\"\n",
    "        )"
   ],
   "metadata": {
    "collapsed": false
   }
  },
  {
   "cell_type": "code",
   "execution_count": 25,
   "outputs": [
    {
     "name": "stderr",
     "output_type": "stream",
     "text": [
      "2022-11-08 13:13:55.594853: W tensorflow/stream_executor/platform/default/dso_loader.cc:64] Could not load dynamic library 'libcuda.so.1'; dlerror: libcuda.so.1: cannot open shared object file: No such file or directory\n",
      "2022-11-08 13:13:55.595106: W tensorflow/stream_executor/cuda/cuda_driver.cc:263] failed call to cuInit: UNKNOWN ERROR (303)\n",
      "2022-11-08 13:13:55.595120: I tensorflow/stream_executor/cuda/cuda_diagnostics.cc:156] kernel driver does not appear to be running on this host (Linux): /proc/driver/nvidia/version does not exist\n"
     ]
    }
   ],
   "source": [
    "import spacy"
   ],
   "metadata": {
    "collapsed": false
   }
  },
  {
   "cell_type": "code",
   "execution_count": 26,
   "outputs": [],
   "source": [
    "nlp = spacy.load(\"en_core_web_sm\")"
   ],
   "metadata": {
    "collapsed": false
   }
  },
  {
   "cell_type": "code",
   "execution_count": 27,
   "outputs": [],
   "source": [
    "def give_dep_features(sentence):\n",
    "  sent_dep_list =[]\n",
    "  doc = nlp(sentence)\n",
    "  for _token in doc:\n",
    "    sent_dep_list.append(str(_token.dep_))\n",
    "\n",
    "  return sent_dep_list"
   ],
   "metadata": {
    "collapsed": false
   }
  },
  {
   "cell_type": "code",
   "execution_count": 28,
   "outputs": [
    {
     "data": {
      "text/plain": "['nsubj', 'ROOT', 'acomp']"
     },
     "execution_count": 28,
     "metadata": {},
     "output_type": "execute_result"
    }
   ],
   "source": [
    "feature1 = give_dep_features(text)\n",
    "feature1"
   ],
   "metadata": {
    "collapsed": false
   }
  },
  {
   "cell_type": "code",
   "execution_count": 29,
   "outputs": [],
   "source": [
    "def give_noun_features(sentence):\n",
    "  sent_dep_list =[]\n",
    "  doc = nlp(sentence)\n",
    "  for _token in doc:\n",
    "    sent_dep_list.append(str(_token.head.pos_))\n",
    "\n",
    "  return sent_dep_list"
   ],
   "metadata": {
    "collapsed": false
   }
  },
  {
   "cell_type": "code",
   "execution_count": 30,
   "outputs": [
    {
     "data": {
      "text/plain": "['AUX', 'AUX', 'AUX']"
     },
     "execution_count": 30,
     "metadata": {},
     "output_type": "execute_result"
    }
   ],
   "source": [
    "feature2 = give_noun_features(text)\n",
    "feature2"
   ],
   "metadata": {
    "collapsed": false
   }
  },
  {
   "cell_type": "code",
   "execution_count": 31,
   "outputs": [],
   "source": [
    "noun_dictionary = {'VERB': 1, 'NOUN': 2, 'AUX': 3, 'ADP': 4, 'PROPN': 5, 'ADJ': 6, 'SYM': 7, 'ADV': 8, 'PRON': 9, 'NUM': 10, 'PUNCT': 11, 'INTJ': 12, 'X': 13, 'SCONJ': 14, 'SPACE': 15, 'PART': 16, 'DET': 17, 'CCONJ': 18}"
   ],
   "metadata": {
    "collapsed": false
   }
  },
  {
   "cell_type": "code",
   "execution_count": 32,
   "outputs": [],
   "source": [
    "dependency_dictionary = {'nsubj': 1, 'punct': 2, 'ROOT': 3, 'prep': 4, 'dobj': 5, 'pobj': 6, 'advmod': 7, 'det': 8, 'amod': 9, 'aux': 10, 'compound': 11, 'conj': 12, 'ccomp': 13, 'cc': 14, 'dep': 15, 'nmod': 16, 'poss': 17, 'npadvmod': 18, 'advcl': 19, 'acomp': 20, 'neg': 21, 'attr': 22, 'xcomp': 23, 'appos': 24, 'mark': 25, 'relcl': 26, 'nummod': 27, 'prt': 28, 'auxpass': 29, 'intj': 30, 'pcomp': 31, 'acl': 32, 'nsubjpass': 33, 'case': 34, 'dative': 35, 'quantmod': 36, 'csubj': 37, 'oprd': 38, 'predet': 39, 'agent': 40, 'expl': 41, 'parataxis': 42, 'meta': 43, 'preconj': 44, 'csubjpass': 45}"
   ],
   "metadata": {
    "collapsed": false
   }
  },
  {
   "cell_type": "code",
   "execution_count": 33,
   "outputs": [],
   "source": [
    "def give_padding(sent):\n",
    "\n",
    "  var_len = len(sent)\n",
    "  padding_len = 110-var_len\n",
    "  padding = [0]*padding_len\n",
    "  sent = sent + padding\n",
    "\n",
    "  return sent[:110]\n",
    "\n",
    "def give_encoded_noun_list(sent):\n",
    "  encoded_list = []\n",
    "\n",
    "  for i in sent:\n",
    "    encoded_list.append(noun_dictionary[i])\n",
    "\n",
    "  return give_padding(encoded_list)\n",
    "\n",
    "def give_encoded_dependency_list(sent):\n",
    "  encoded_list = []\n",
    "\n",
    "  for i in sent:\n",
    "    encoded_list.append(dependency_dictionary[i])\n",
    "\n",
    "  return give_padding(encoded_list)"
   ],
   "metadata": {
    "collapsed": false
   }
  },
  {
   "cell_type": "code",
   "execution_count": 34,
   "outputs": [],
   "source": [
    "feature1 = give_encoded_dependency_list(feature1)"
   ],
   "metadata": {
    "collapsed": false
   }
  },
  {
   "cell_type": "code",
   "execution_count": 35,
   "outputs": [],
   "source": [
    "feature2 = give_encoded_noun_list(feature2)"
   ],
   "metadata": {
    "collapsed": false
   }
  },
  {
   "cell_type": "code",
   "execution_count": 36,
   "outputs": [],
   "source": [
    "result = model(token[\"input_ids\"], token[\"attention_mask\"], torch.tensor(feature1, dtype=torch.long).unsqueeze(0), torch.tensor(feature2, dtype=torch.long).unsqueeze(0))"
   ],
   "metadata": {
    "collapsed": false
   }
  },
  {
   "cell_type": "code",
   "execution_count": 37,
   "outputs": [
    {
     "data": {
      "text/plain": "      anger  anticipation       disgust      fear  joy      love  optimism  \\\n0  0.156564       0.00001  2.350510e-10  0.000016  1.0  0.201354  0.992397   \n\n      pessimism   sadness  surprise     trust   neutral  \n0  7.836081e-11  0.000054  0.000015  0.000051  0.436435  ",
      "text/html": "<div>\n<style scoped>\n    .dataframe tbody tr th:only-of-type {\n        vertical-align: middle;\n    }\n\n    .dataframe tbody tr th {\n        vertical-align: top;\n    }\n\n    .dataframe thead th {\n        text-align: right;\n    }\n</style>\n<table border=\"1\" class=\"dataframe\">\n  <thead>\n    <tr style=\"text-align: right;\">\n      <th></th>\n      <th>anger</th>\n      <th>anticipation</th>\n      <th>disgust</th>\n      <th>fear</th>\n      <th>joy</th>\n      <th>love</th>\n      <th>optimism</th>\n      <th>pessimism</th>\n      <th>sadness</th>\n      <th>surprise</th>\n      <th>trust</th>\n      <th>neutral</th>\n    </tr>\n  </thead>\n  <tbody>\n    <tr>\n      <th>0</th>\n      <td>0.156564</td>\n      <td>0.00001</td>\n      <td>2.350510e-10</td>\n      <td>0.000016</td>\n      <td>1.0</td>\n      <td>0.201354</td>\n      <td>0.992397</td>\n      <td>7.836081e-11</td>\n      <td>0.000054</td>\n      <td>0.000015</td>\n      <td>0.000051</td>\n      <td>0.436435</td>\n    </tr>\n  </tbody>\n</table>\n</div>"
     },
     "execution_count": 37,
     "metadata": {},
     "output_type": "execute_result"
    }
   ],
   "source": [
    "import pandas as pd\n",
    "col = [ 'anger', 'anticipation', 'disgust', 'fear', 'joy',\n",
    "       'love', 'optimism', 'pessimism', 'sadness', 'surprise', 'trust', 'neutral']\n",
    "pd.DataFrame(torch.sigmoid(result.detach()), columns=col)"
   ],
   "metadata": {
    "collapsed": false
   }
  },
  {
   "cell_type": "code",
   "execution_count": null,
   "outputs": [],
   "source": [],
   "metadata": {
    "collapsed": false
   }
  }
 ],
 "metadata": {
  "kernelspec": {
   "display_name": "Python 3",
   "language": "python",
   "name": "python3"
  },
  "language_info": {
   "codemirror_mode": {
    "name": "ipython",
    "version": 2
   },
   "file_extension": ".py",
   "mimetype": "text/x-python",
   "name": "python",
   "nbconvert_exporter": "python",
   "pygments_lexer": "ipython2",
   "version": "2.7.6"
  }
 },
 "nbformat": 4,
 "nbformat_minor": 0
}
